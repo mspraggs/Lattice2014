{
 "metadata": {
  "name": "Lattice 2014"
 },
 "nbformat": 3,
 "nbformat_minor": 0,
 "worksheets": [
  {
   "cells": [
    {
     "cell_type": "markdown",
     "metadata": {
      "slideshow": {
       "slide_type": "slide"
      }
     },
     "source": "<h1 style=\"text-align: center;\" class=\"title\">pyQCD: A Native Lattice Simulation API for Python</h1>\n<h2 style=\"text-align: center;\" class=\"title\">Matt Spraggs</h2>\n<h2 style=\"text-align: center;\" class=\"title\">RBC/UKQCD</h2>\n<h3 style=\"text-align: center;\" class=\"title\">Department of Physics and Astronomy</h3>\n<h3 style=\"text-align: center;\" class=\"title\">University of Southampton</h3>"
    },
    {
     "cell_type": "markdown",
     "metadata": {
      "slideshow": {
       "slide_type": "slide"
      }
     },
     "source": "But Why Matt? WHY!?\n===================\n\n* Reduced complexity\n* Ease of use\n* Interactive scripting\n* Rapid development"
    },
    {
     "cell_type": "markdown",
     "metadata": {
      "slideshow": {
       "slide_type": "fragment"
      }
     },
     "source": "New measurement?\n\n1. Idea\n2. Prototype\n3. Test/Tune\n4. Full implementation\n5. Production run"
    },
    {
     "cell_type": "markdown",
     "metadata": {
      "slideshow": {
       "slide_type": "slide"
      }
     },
     "source": "Python\n======\n\n**Python:** Interpretted, dynamic, high-level, clean, readable"
    },
    {
     "cell_type": "markdown",
     "metadata": {
      "slideshow": {
       "slide_type": "fragment"
      }
     },
     "source": "**Advantages:**\n\n* Readable\n* Flexible\n* Easy to learn\n* Easy to debug\n* Huge number of packages/libraries"
    },
    {
     "cell_type": "markdown",
     "metadata": {
      "slideshow": {
       "slide_type": "fragment"
      }
     },
     "source": "**Disadvantages:**\n\n* Ewww! Whitespace!\n* Sloooooooooooooooow..."
    },
    {
     "cell_type": "markdown",
     "metadata": {},
     "source": "**Lattice:** Computationally intensive"
    },
    {
     "cell_type": "markdown",
     "metadata": {
      "slideshow": {
       "slide_type": "slide"
      }
     },
     "source": "The Pipe Dream\n=============="
    },
    {
     "cell_type": "code",
     "collapsed": false,
     "input": "import mylatlib\n\nL, T = 64, 128\ngauge_field = mylatlib.cold_start(L, T)\n\ngauge_field.heatbath(gauge_action=\"wilson\", num_updates=100)",
     "language": "python",
     "metadata": {
      "slideshow": {
       "slide_type": "fragment"
      }
     },
     "outputs": []
    },
    {
     "cell_type": "code",
     "collapsed": false,
     "input": "correlators = []\n\nfor i in range(100):\n    \n    prop = mylatlib.compute_wilson_prop(mass=0.1, gauge_field=gauge_field)\n    correlators.append(mylatlib.meson256(prop, prop))\n    \n    gauge_field.heatbath(gauge_action=\"wilson\", num_updates=10)\n    \nmylatlib.save(\"the_results\", correlators)",
     "language": "python",
     "metadata": {
      "slideshow": {
       "slide_type": "fragment"
      }
     },
     "outputs": []
    },
    {
     "cell_type": "markdown",
     "metadata": {
      "slideshow": {
       "slide_type": "fragment"
      }
     },
     "source": "Moderate Our Expectations\n-------------------------\n* Prototyping\n* Testing\n* Extensibility"
    },
    {
     "cell_type": "markdown",
     "metadata": {
      "slideshow": {
       "slide_type": "slide"
      }
     },
     "source": "Boost.Python to the Rescue!\n====================\n\n**Boost:** Set of C++ libraries to meet a range of needs\n\n<img style=\"margin-left: auto; margin-right: auto; display: block;\" src=\"files/Python_C++.png\">"
    },
    {
     "cell_type": "markdown",
     "metadata": {
      "slideshow": {
       "slide_type": "slide"
      }
     },
     "source": "pyQCD\n=====\n\n* The lattice is an object\n* Lexicographic site ordering\n* CPU-intensive code in C++ via Boost\n* Linear algebra with Eigen 3\n* Multithreading using OpenMP\n* Full use of numpy data types\n* Ease of use, extensibility and documentation\n* CUDA support\n* Easy to install and (hopefully) cross platform\n* Python 2 and 3 compatability"
    },
    {
     "cell_type": "code",
     "collapsed": false,
     "input": "import pyQCD\n\npyQCD.Lattice?",
     "language": "python",
     "metadata": {
      "slideshow": {
       "slide_type": "fragment"
      }
     },
     "outputs": [],
     "prompt_number": 5
    },
    {
     "cell_type": "markdown",
     "metadata": {
      "slideshow": {
       "slide_type": "slide"
      }
     },
     "source": "Peeling the Onion\n================\n\n<img src=\"files/anatomy.png\" style=\"margin-left: auto; margin-right: auto; display: block;\">"
    },
    {
     "cell_type": "markdown",
     "metadata": {
      "slideshow": {
       "slide_type": "slide"
      }
     },
     "source": "A Simple Example\n================"
    },
    {
     "cell_type": "code",
     "collapsed": false,
     "input": "lattice = pyQCD.Lattice(L=4, T=8,\n                        beta=5.5, action=\"wilson\",\n                        meas_spacing=10,\n                        update_method=\"heatbath\")\n\nfor i in range(20):\n    print(lattice.get_av_plaquette())\n    lattice.update()",
     "language": "python",
     "metadata": {
      "slideshow": {
       "slide_type": "fragment"
      }
     },
     "outputs": [
      {
       "output_type": "stream",
       "stream": "stdout",
       "text": "1.0\n0.677212100634\n0.606080363109\n0.582105738445\n0.569080803066"
      },
      {
       "output_type": "stream",
       "stream": "stdout",
       "text": "\n0.553415653993\n0.546253245247\n0.55368210462\n0.543724196044"
      },
      {
       "output_type": "stream",
       "stream": "stdout",
       "text": "\n0.543449019208\n0.530287742852\n0.536358448341\n0.531648918407"
      },
      {
       "output_type": "stream",
       "stream": "stdout",
       "text": "\n0.523198238956\n0.526104260619\n0.535878008182\n0.530129644588"
      },
      {
       "output_type": "stream",
       "stream": "stdout",
       "text": "\n0.530319050766\n0.515835581035\n0.523753116326\n"
      }
     ],
     "prompt_number": 6
    },
    {
     "cell_type": "markdown",
     "metadata": {
      "slideshow": {
       "slide_type": "slide"
      }
     },
     "source": "A Simple Example (Cont.)\n========================"
    },
    {
     "cell_type": "code",
     "collapsed": true,
     "input": "config = lattice.get_config()\n\nprint(\"Config type: {}\".format(type(config)))\nprint(\"Config shape: {}\".format(config.shape))\nprint(\"\")\nprint(\"Gauge field for link (t, x, y, z, mu) = (4, 3, 1, 2, 2):\")\nprint(config[4, 3, 1, 2, 2])",
     "language": "python",
     "metadata": {
      "slideshow": {
       "slide_type": "fragment"
      }
     },
     "outputs": [
      {
       "output_type": "stream",
       "stream": "stdout",
       "text": "Config type: <type 'numpy.ndarray'>\nConfig shape: (8, 4, 4, 4, 4, 3, 3)\n\nGauge field for link (t, x, y, z, mu) = (4, 3, 1, 2, 2):\n[[ 0.29174629+0.34677621j  0.54282605+0.5321648j   0.16150985+0.43667543j]\n [ 0.56601344-0.36843713j -0.56778741+0.22000427j  0.35188917+0.22197403j]\n [ 0.26066156-0.52016227j  0.22661714-0.00087105j -0.74525822+0.23392489j]]"
      },
      {
       "output_type": "stream",
       "stream": "stdout",
       "text": "\n"
      }
     ],
     "prompt_number": 7
    },
    {
     "cell_type": "markdown",
     "metadata": {
      "slideshow": {
       "slide_type": "slide"
      }
     },
     "source": "Generating Some Configs\n=======================\n\n* Do parallel updates on even and odd blocks in turn with OpenMP\n* Use with caution!"
    },
    {
     "cell_type": "code",
     "collapsed": false,
     "input": "lattice = pyQCD.Lattice(8, 4, 5.8, \"rectangle_improved\", 10)\n# Thermalize with 100 updates\nlattice.thermalize(100)\n\nfor i in range(10):\n    print(\"Generating config {}\".format(i))\n    # Do ten updates\n    lattice.next_config()\n    lattice.save_config(\"config{}.npy\".format(i))",
     "language": "python",
     "metadata": {
      "slideshow": {
       "slide_type": "fragment"
      }
     },
     "outputs": [
      {
       "output_type": "stream",
       "stream": "stdout",
       "text": "Generating config 0\nGenerating config 1"
      },
      {
       "output_type": "stream",
       "stream": "stdout",
       "text": "\nGenerating config 2"
      },
      {
       "output_type": "stream",
       "stream": "stdout",
       "text": "\nGenerating config 3"
      },
      {
       "output_type": "stream",
       "stream": "stdout",
       "text": "\nGenerating config 4"
      },
      {
       "output_type": "stream",
       "stream": "stdout",
       "text": "\nGenerating config 5"
      },
      {
       "output_type": "stream",
       "stream": "stdout",
       "text": "\nGenerating config 6"
      },
      {
       "output_type": "stream",
       "stream": "stdout",
       "text": "\nGenerating config 7"
      },
      {
       "output_type": "stream",
       "stream": "stdout",
       "text": "\nGenerating config 8"
      },
      {
       "output_type": "stream",
       "stream": "stdout",
       "text": "\nGenerating config 9"
      },
      {
       "output_type": "stream",
       "stream": "stdout",
       "text": "\n"
      }
     ],
     "prompt_number": 9
    },
    {
     "cell_type": "markdown",
     "metadata": {
      "slideshow": {
       "slide_type": "slide"
      }
     },
     "source": "Computing Propagators\n=====================\n\n* Matvec operations parallelised with OpenMP\n* Here we're inverting in the free theory"
    },
    {
     "cell_type": "code",
     "collapsed": false,
     "input": "from functools import partial\n\nlattice = pyQCD.Lattice(4, 8, 5.5, \"wilson\", 10)\ninverter = partial(lattice.invert_wilson_dirac, mass=0.2)\nsource = lattice.point_source([0, 0, 0, 0])\n\nprint(\"Source type: {}\".format(type(source)))\nprint(\"Source shape: {}\".format(source.shape))\nprint(\"Source non-zero entries: {}\".format(source.nonzero()))",
     "language": "python",
     "metadata": {
      "slideshow": {
       "slide_type": "fragment"
      }
     },
     "outputs": [
      {
       "output_type": "stream",
       "stream": "stdout",
       "text": "Source type: <type 'numpy.ndarray'>\nSource shape: (8, 4, 4, 4)\nSource non-zero entries: (array([0]), array([0]), array([0]), array([0]))\n"
      }
     ],
     "prompt_number": 10
    },
    {
     "cell_type": "code",
     "collapsed": false,
     "input": "%matplotlib inline\n\nimport logging\nimport matplotlib.pyplot as plt\n\nlogger = logging.getLogger()\nlogger.setLevel(logging.INFO)\n\nprop = pyQCD.compute_propagator(source, inverter)\nprint(\"\")\nprint(\"Propagator shape: {}\".format(prop.shape))\nps_correlator = pyQCD.compute_meson_corr(prop, prop, \"g5\", \"g5\")\nplt.plot(ps_correlator)\nplt.xlabel(\"$t$\", fontsize=18)\nplt.ylabel(\"$C(t)$\", fontsize=18)\nplt.show()",
     "language": "python",
     "metadata": {
      "slideshow": {
       "slide_type": "fragment"
      }
     },
     "outputs": [
      {
       "output_type": "stream",
       "stream": "stderr",
       "text": "INFO:pyQCD.core.propagator.compute_propagator:Computing propagator...\n"
      },
      {
       "output_type": "stream",
       "stream": "stderr",
       "text": "INFO:pyQCD.core.propagator.compute_propagator:Inverting for spin 0 and colour 0\n"
      },
      {
       "output_type": "stream",
       "stream": "stderr",
       "text": "INFO:pyQCD.core.lattice.Lattice.invert_wilson_dirac:Inverting Wilson Dirac operator...\n"
      },
      {
       "output_type": "stream",
       "stream": "stderr",
       "text": "INFO:pyQCD.core.lattice.Lattice.invert_wilson_dirac:solver_method: conjugate_gradient\n"
      },
      {
       "output_type": "stream",
       "stream": "stderr",
       "text": "INFO:pyQCD.core.lattice.Lattice.invert_wilson_dirac:boundary_conditions: [-1, 1, 1, 1]\n"
      },
      {
       "output_type": "stream",
       "stream": "stderr",
       "text": "INFO:pyQCD.core.lattice.Lattice.invert_wilson_dirac:precondition: False\n"
      },
      {
       "output_type": "stream",
       "stream": "stderr",
       "text": "INFO:pyQCD.core.lattice.Lattice.invert_wilson_dirac:mass: 0.2\n"
      },
      {
       "output_type": "stream",
       "stream": "stderr",
       "text": "INFO:pyQCD.core.lattice.Lattice.invert_wilson_dirac:tolerance: 1e-08\n"
      },
      {
       "output_type": "stream",
       "stream": "stderr",
       "text": "INFO:pyQCD.core.lattice.Lattice.invert_wilson_dirac:max_iterations: 1000\n"
      },
      {
       "output_type": "stream",
       "stream": "stderr",
       "text": "INFO:pyQCD.core.lattice.Lattice.invert_wilson_dirac:Solver finished after 77 iterations with residual 7.74084048616e-09\n"
      },
      {
       "output_type": "stream",
       "stream": "stderr",
       "text": "INFO:pyQCD.core.lattice.Lattice.invert_wilson_dirac:CPU time used: 0.9\n"
      },
      {
       "output_type": "stream",
       "stream": "stderr",
       "text": "INFO:pyQCD.core.propagator.compute_propagator:Inversion walltime: 0.281537055969\n"
      },
      {
       "output_type": "stream",
       "stream": "stderr",
       "text": "INFO:pyQCD.core.propagator.compute_propagator:Inverting for spin 0 and colour 1\n"
      },
      {
       "output_type": "stream",
       "stream": "stderr",
       "text": "INFO:pyQCD.core.lattice.Lattice.invert_wilson_dirac:Inverting Wilson Dirac operator...\n"
      },
      {
       "output_type": "stream",
       "stream": "stderr",
       "text": "INFO:pyQCD.core.lattice.Lattice.invert_wilson_dirac:solver_method: conjugate_gradient\n"
      },
      {
       "output_type": "stream",
       "stream": "stderr",
       "text": "INFO:pyQCD.core.lattice.Lattice.invert_wilson_dirac:boundary_conditions: [-1, 1, 1, 1]\n"
      },
      {
       "output_type": "stream",
       "stream": "stderr",
       "text": "INFO:pyQCD.core.lattice.Lattice.invert_wilson_dirac:precondition: False\n"
      },
      {
       "output_type": "stream",
       "stream": "stderr",
       "text": "INFO:pyQCD.core.lattice.Lattice.invert_wilson_dirac:mass: 0.2\n"
      },
      {
       "output_type": "stream",
       "stream": "stderr",
       "text": "INFO:pyQCD.core.lattice.Lattice.invert_wilson_dirac:tolerance: 1e-08\n"
      },
      {
       "output_type": "stream",
       "stream": "stderr",
       "text": "INFO:pyQCD.core.lattice.Lattice.invert_wilson_dirac:max_iterations: 1000\n"
      },
      {
       "output_type": "stream",
       "stream": "stderr",
       "text": "INFO:pyQCD.core.lattice.Lattice.invert_wilson_dirac:Solver finished after 77 iterations with residual 7.74083966548e-09\n"
      },
      {
       "output_type": "stream",
       "stream": "stderr",
       "text": "INFO:pyQCD.core.lattice.Lattice.invert_wilson_dirac:CPU time used: 0.9\n"
      },
      {
       "output_type": "stream",
       "stream": "stderr",
       "text": "INFO:pyQCD.core.propagator.compute_propagator:Inversion walltime: 0.264081001282\n"
      },
      {
       "output_type": "stream",
       "stream": "stderr",
       "text": "INFO:pyQCD.core.propagator.compute_propagator:Inverting for spin 0 and colour 2\n"
      },
      {
       "output_type": "stream",
       "stream": "stderr",
       "text": "INFO:pyQCD.core.lattice.Lattice.invert_wilson_dirac:Inverting Wilson Dirac operator...\n"
      },
      {
       "output_type": "stream",
       "stream": "stderr",
       "text": "INFO:pyQCD.core.lattice.Lattice.invert_wilson_dirac:solver_method: conjugate_gradient\n"
      },
      {
       "output_type": "stream",
       "stream": "stderr",
       "text": "INFO:pyQCD.core.lattice.Lattice.invert_wilson_dirac:boundary_conditions: [-1, 1, 1, 1]\n"
      },
      {
       "output_type": "stream",
       "stream": "stderr",
       "text": "INFO:pyQCD.core.lattice.Lattice.invert_wilson_dirac:precondition: False\n"
      },
      {
       "output_type": "stream",
       "stream": "stderr",
       "text": "INFO:pyQCD.core.lattice.Lattice.invert_wilson_dirac:mass: 0.2\n"
      },
      {
       "output_type": "stream",
       "stream": "stderr",
       "text": "INFO:pyQCD.core.lattice.Lattice.invert_wilson_dirac:tolerance: 1e-08\n"
      },
      {
       "output_type": "stream",
       "stream": "stderr",
       "text": "INFO:pyQCD.core.lattice.Lattice.invert_wilson_dirac:max_iterations: 1000\n"
      },
      {
       "output_type": "stream",
       "stream": "stderr",
       "text": "INFO:pyQCD.core.lattice.Lattice.invert_wilson_dirac:Solver finished after 77 iterations with residual 7.94331972902e-09\n"
      },
      {
       "output_type": "stream",
       "stream": "stderr",
       "text": "INFO:pyQCD.core.lattice.Lattice.invert_wilson_dirac:CPU time used: 0.96\n"
      },
      {
       "output_type": "stream",
       "stream": "stderr",
       "text": "INFO:pyQCD.core.propagator.compute_propagator:Inversion walltime: 0.288220882416\n"
      },
      {
       "output_type": "stream",
       "stream": "stderr",
       "text": "INFO:pyQCD.core.propagator.compute_propagator:Inverting for spin 1 and colour 0\n"
      },
      {
       "output_type": "stream",
       "stream": "stderr",
       "text": "INFO:pyQCD.core.lattice.Lattice.invert_wilson_dirac:Inverting Wilson Dirac operator...\n"
      },
      {
       "output_type": "stream",
       "stream": "stderr",
       "text": "INFO:pyQCD.core.lattice.Lattice.invert_wilson_dirac:solver_method: conjugate_gradient\n"
      },
      {
       "output_type": "stream",
       "stream": "stderr",
       "text": "INFO:pyQCD.core.lattice.Lattice.invert_wilson_dirac:boundary_conditions: [-1, 1, 1, 1]\n"
      },
      {
       "output_type": "stream",
       "stream": "stderr",
       "text": "INFO:pyQCD.core.lattice.Lattice.invert_wilson_dirac:precondition: False\n"
      },
      {
       "output_type": "stream",
       "stream": "stderr",
       "text": "INFO:pyQCD.core.lattice.Lattice.invert_wilson_dirac:mass: 0.2\n"
      },
      {
       "output_type": "stream",
       "stream": "stderr",
       "text": "INFO:pyQCD.core.lattice.Lattice.invert_wilson_dirac:tolerance: 1e-08\n"
      },
      {
       "output_type": "stream",
       "stream": "stderr",
       "text": "INFO:pyQCD.core.lattice.Lattice.invert_wilson_dirac:max_iterations: 1000\n"
      },
      {
       "output_type": "stream",
       "stream": "stderr",
       "text": "INFO:pyQCD.core.lattice.Lattice.invert_wilson_dirac:Solver finished after 77 iterations with residual 7.74083966548e-09\n"
      },
      {
       "output_type": "stream",
       "stream": "stderr",
       "text": "INFO:pyQCD.core.lattice.Lattice.invert_wilson_dirac:CPU time used: 1.49\n"
      },
      {
       "output_type": "stream",
       "stream": "stderr",
       "text": "INFO:pyQCD.core.propagator.compute_propagator:Inversion walltime: 0.510751008987\n"
      },
      {
       "output_type": "stream",
       "stream": "stderr",
       "text": "INFO:pyQCD.core.propagator.compute_propagator:Inverting for spin 1 and colour 1\n"
      },
      {
       "output_type": "stream",
       "stream": "stderr",
       "text": "INFO:pyQCD.core.lattice.Lattice.invert_wilson_dirac:Inverting Wilson Dirac operator...\n"
      },
      {
       "output_type": "stream",
       "stream": "stderr",
       "text": "INFO:pyQCD.core.lattice.Lattice.invert_wilson_dirac:solver_method: conjugate_gradient\n"
      },
      {
       "output_type": "stream",
       "stream": "stderr",
       "text": "INFO:pyQCD.core.lattice.Lattice.invert_wilson_dirac:boundary_conditions: [-1, 1, 1, 1]\n"
      },
      {
       "output_type": "stream",
       "stream": "stderr",
       "text": "INFO:pyQCD.core.lattice.Lattice.invert_wilson_dirac:precondition: False\n"
      },
      {
       "output_type": "stream",
       "stream": "stderr",
       "text": "INFO:pyQCD.core.lattice.Lattice.invert_wilson_dirac:mass: 0.2\n"
      },
      {
       "output_type": "stream",
       "stream": "stderr",
       "text": "INFO:pyQCD.core.lattice.Lattice.invert_wilson_dirac:tolerance: 1e-08\n"
      },
      {
       "output_type": "stream",
       "stream": "stderr",
       "text": "INFO:pyQCD.core.lattice.Lattice.invert_wilson_dirac:max_iterations: 1000\n"
      },
      {
       "output_type": "stream",
       "stream": "stderr",
       "text": "INFO:pyQCD.core.lattice.Lattice.invert_wilson_dirac:Solver finished after 77 iterations with residual 7.74083966548e-09\n"
      },
      {
       "output_type": "stream",
       "stream": "stderr",
       "text": "INFO:pyQCD.core.lattice.Lattice.invert_wilson_dirac:CPU time used: 1.21\n"
      },
      {
       "output_type": "stream",
       "stream": "stderr",
       "text": "INFO:pyQCD.core.propagator.compute_propagator:Inversion walltime: 0.393754005432\n"
      },
      {
       "output_type": "stream",
       "stream": "stderr",
       "text": "INFO:pyQCD.core.propagator.compute_propagator:Inverting for spin 1 and colour 2\n"
      },
      {
       "output_type": "stream",
       "stream": "stderr",
       "text": "INFO:pyQCD.core.lattice.Lattice.invert_wilson_dirac:Inverting Wilson Dirac operator...\n"
      },
      {
       "output_type": "stream",
       "stream": "stderr",
       "text": "INFO:pyQCD.core.lattice.Lattice.invert_wilson_dirac:solver_method: conjugate_gradient\n"
      },
      {
       "output_type": "stream",
       "stream": "stderr",
       "text": "INFO:pyQCD.core.lattice.Lattice.invert_wilson_dirac:boundary_conditions: [-1, 1, 1, 1]\n"
      },
      {
       "output_type": "stream",
       "stream": "stderr",
       "text": "INFO:pyQCD.core.lattice.Lattice.invert_wilson_dirac:precondition: False\n"
      },
      {
       "output_type": "stream",
       "stream": "stderr",
       "text": "INFO:pyQCD.core.lattice.Lattice.invert_wilson_dirac:mass: 0.2\n"
      },
      {
       "output_type": "stream",
       "stream": "stderr",
       "text": "INFO:pyQCD.core.lattice.Lattice.invert_wilson_dirac:tolerance: 1e-08\n"
      },
      {
       "output_type": "stream",
       "stream": "stderr",
       "text": "INFO:pyQCD.core.lattice.Lattice.invert_wilson_dirac:max_iterations: 1000\n"
      },
      {
       "output_type": "stream",
       "stream": "stderr",
       "text": "INFO:pyQCD.core.lattice.Lattice.invert_wilson_dirac:Solver finished after 77 iterations with residual 7.74425570153e-09\n"
      },
      {
       "output_type": "stream",
       "stream": "stderr",
       "text": "INFO:pyQCD.core.lattice.Lattice.invert_wilson_dirac:CPU time used: 1.03\n"
      },
      {
       "output_type": "stream",
       "stream": "stderr",
       "text": "INFO:pyQCD.core.propagator.compute_propagator:Inversion walltime: 0.316509962082\n"
      },
      {
       "output_type": "stream",
       "stream": "stderr",
       "text": "INFO:pyQCD.core.propagator.compute_propagator:Inverting for spin 2 and colour 0\n"
      },
      {
       "output_type": "stream",
       "stream": "stderr",
       "text": "INFO:pyQCD.core.lattice.Lattice.invert_wilson_dirac:Inverting Wilson Dirac operator...\n"
      },
      {
       "output_type": "stream",
       "stream": "stderr",
       "text": "INFO:pyQCD.core.lattice.Lattice.invert_wilson_dirac:solver_method: conjugate_gradient\n"
      },
      {
       "output_type": "stream",
       "stream": "stderr",
       "text": "INFO:pyQCD.core.lattice.Lattice.invert_wilson_dirac:boundary_conditions: [-1, 1, 1, 1]\n"
      },
      {
       "output_type": "stream",
       "stream": "stderr",
       "text": "INFO:pyQCD.core.lattice.Lattice.invert_wilson_dirac:precondition: False\n"
      },
      {
       "output_type": "stream",
       "stream": "stderr",
       "text": "INFO:pyQCD.core.lattice.Lattice.invert_wilson_dirac:mass: 0.2\n"
      },
      {
       "output_type": "stream",
       "stream": "stderr",
       "text": "INFO:pyQCD.core.lattice.Lattice.invert_wilson_dirac:tolerance: 1e-08\n"
      },
      {
       "output_type": "stream",
       "stream": "stderr",
       "text": "INFO:pyQCD.core.lattice.Lattice.invert_wilson_dirac:max_iterations: 1000\n"
      },
      {
       "output_type": "stream",
       "stream": "stderr",
       "text": "INFO:pyQCD.core.lattice.Lattice.invert_wilson_dirac:Solver finished after 77 iterations with residual 6.24324606357e-09\n"
      },
      {
       "output_type": "stream",
       "stream": "stderr",
       "text": "INFO:pyQCD.core.lattice.Lattice.invert_wilson_dirac:CPU time used: 1.45\n"
      },
      {
       "output_type": "stream",
       "stream": "stderr",
       "text": "INFO:pyQCD.core.propagator.compute_propagator:Inversion walltime: 0.495503902435\n"
      },
      {
       "output_type": "stream",
       "stream": "stderr",
       "text": "INFO:pyQCD.core.propagator.compute_propagator:Inverting for spin 2 and colour 1\n"
      },
      {
       "output_type": "stream",
       "stream": "stderr",
       "text": "INFO:pyQCD.core.lattice.Lattice.invert_wilson_dirac:Inverting Wilson Dirac operator...\n"
      },
      {
       "output_type": "stream",
       "stream": "stderr",
       "text": "INFO:pyQCD.core.lattice.Lattice.invert_wilson_dirac:solver_method: conjugate_gradient\n"
      },
      {
       "output_type": "stream",
       "stream": "stderr",
       "text": "INFO:pyQCD.core.lattice.Lattice.invert_wilson_dirac:boundary_conditions: [-1, 1, 1, 1]\n"
      },
      {
       "output_type": "stream",
       "stream": "stderr",
       "text": "INFO:pyQCD.core.lattice.Lattice.invert_wilson_dirac:precondition: False\n"
      },
      {
       "output_type": "stream",
       "stream": "stderr",
       "text": "INFO:pyQCD.core.lattice.Lattice.invert_wilson_dirac:mass: 0.2\n"
      },
      {
       "output_type": "stream",
       "stream": "stderr",
       "text": "INFO:pyQCD.core.lattice.Lattice.invert_wilson_dirac:tolerance: 1e-08\n"
      },
      {
       "output_type": "stream",
       "stream": "stderr",
       "text": "INFO:pyQCD.core.lattice.Lattice.invert_wilson_dirac:max_iterations: 1000\n"
      },
      {
       "output_type": "stream",
       "stream": "stderr",
       "text": "INFO:pyQCD.core.lattice.Lattice.invert_wilson_dirac:Solver finished after 77 iterations with residual 6.24324606357e-09\n"
      },
      {
       "output_type": "stream",
       "stream": "stderr",
       "text": "INFO:pyQCD.core.lattice.Lattice.invert_wilson_dirac:CPU time used: 1.34\n"
      },
      {
       "output_type": "stream",
       "stream": "stderr",
       "text": "INFO:pyQCD.core.propagator.compute_propagator:Inversion walltime: 0.450342178345\n"
      },
      {
       "output_type": "stream",
       "stream": "stderr",
       "text": "INFO:pyQCD.core.propagator.compute_propagator:Inverting for spin 2 and colour 2\n"
      },
      {
       "output_type": "stream",
       "stream": "stderr",
       "text": "INFO:pyQCD.core.lattice.Lattice.invert_wilson_dirac:Inverting Wilson Dirac operator...\n"
      },
      {
       "output_type": "stream",
       "stream": "stderr",
       "text": "INFO:pyQCD.core.lattice.Lattice.invert_wilson_dirac:solver_method: conjugate_gradient\n"
      },
      {
       "output_type": "stream",
       "stream": "stderr",
       "text": "INFO:pyQCD.core.lattice.Lattice.invert_wilson_dirac:boundary_conditions: [-1, 1, 1, 1]\n"
      },
      {
       "output_type": "stream",
       "stream": "stderr",
       "text": "INFO:pyQCD.core.lattice.Lattice.invert_wilson_dirac:precondition: False\n"
      },
      {
       "output_type": "stream",
       "stream": "stderr",
       "text": "INFO:pyQCD.core.lattice.Lattice.invert_wilson_dirac:mass: 0.2\n"
      },
      {
       "output_type": "stream",
       "stream": "stderr",
       "text": "INFO:pyQCD.core.lattice.Lattice.invert_wilson_dirac:tolerance: 1e-08\n"
      },
      {
       "output_type": "stream",
       "stream": "stderr",
       "text": "INFO:pyQCD.core.lattice.Lattice.invert_wilson_dirac:max_iterations: 1000\n"
      },
      {
       "output_type": "stream",
       "stream": "stderr",
       "text": "INFO:pyQCD.core.lattice.Lattice.invert_wilson_dirac:Solver finished after 77 iterations with residual 6.24324606357e-09\n"
      },
      {
       "output_type": "stream",
       "stream": "stderr",
       "text": "INFO:pyQCD.core.lattice.Lattice.invert_wilson_dirac:CPU time used: 1.67\n"
      },
      {
       "output_type": "stream",
       "stream": "stderr",
       "text": "INFO:pyQCD.core.propagator.compute_propagator:Inversion walltime: 0.593438863754\n"
      },
      {
       "output_type": "stream",
       "stream": "stderr",
       "text": "INFO:pyQCD.core.propagator.compute_propagator:Inverting for spin 3 and colour 0\n"
      },
      {
       "output_type": "stream",
       "stream": "stderr",
       "text": "INFO:pyQCD.core.lattice.Lattice.invert_wilson_dirac:Inverting Wilson Dirac operator...\n"
      },
      {
       "output_type": "stream",
       "stream": "stderr",
       "text": "INFO:pyQCD.core.lattice.Lattice.invert_wilson_dirac:solver_method: conjugate_gradient\n"
      },
      {
       "output_type": "stream",
       "stream": "stderr",
       "text": "INFO:pyQCD.core.lattice.Lattice.invert_wilson_dirac:boundary_conditions: [-1, 1, 1, 1]\n"
      },
      {
       "output_type": "stream",
       "stream": "stderr",
       "text": "INFO:pyQCD.core.lattice.Lattice.invert_wilson_dirac:precondition: False\n"
      },
      {
       "output_type": "stream",
       "stream": "stderr",
       "text": "INFO:pyQCD.core.lattice.Lattice.invert_wilson_dirac:mass: 0.2\n"
      },
      {
       "output_type": "stream",
       "stream": "stderr",
       "text": "INFO:pyQCD.core.lattice.Lattice.invert_wilson_dirac:tolerance: 1e-08\n"
      },
      {
       "output_type": "stream",
       "stream": "stderr",
       "text": "INFO:pyQCD.core.lattice.Lattice.invert_wilson_dirac:max_iterations: 1000\n"
      },
      {
       "output_type": "stream",
       "stream": "stderr",
       "text": "INFO:pyQCD.core.lattice.Lattice.invert_wilson_dirac:Solver finished after 77 iterations with residual 6.24324606357e-09\n"
      },
      {
       "output_type": "stream",
       "stream": "stderr",
       "text": "INFO:pyQCD.core.lattice.Lattice.invert_wilson_dirac:CPU time used: 1.45\n"
      },
      {
       "output_type": "stream",
       "stream": "stderr",
       "text": "INFO:pyQCD.core.propagator.compute_propagator:Inversion walltime: 0.493458986282\n"
      },
      {
       "output_type": "stream",
       "stream": "stderr",
       "text": "INFO:pyQCD.core.propagator.compute_propagator:Inverting for spin 3 and colour 1\n"
      },
      {
       "output_type": "stream",
       "stream": "stderr",
       "text": "INFO:pyQCD.core.lattice.Lattice.invert_wilson_dirac:Inverting Wilson Dirac operator...\n"
      },
      {
       "output_type": "stream",
       "stream": "stderr",
       "text": "INFO:pyQCD.core.lattice.Lattice.invert_wilson_dirac:solver_method: conjugate_gradient\n"
      },
      {
       "output_type": "stream",
       "stream": "stderr",
       "text": "INFO:pyQCD.core.lattice.Lattice.invert_wilson_dirac:boundary_conditions: [-1, 1, 1, 1]\n"
      },
      {
       "output_type": "stream",
       "stream": "stderr",
       "text": "INFO:pyQCD.core.lattice.Lattice.invert_wilson_dirac:precondition: False\n"
      },
      {
       "output_type": "stream",
       "stream": "stderr",
       "text": "INFO:pyQCD.core.lattice.Lattice.invert_wilson_dirac:mass: 0.2\n"
      },
      {
       "output_type": "stream",
       "stream": "stderr",
       "text": "INFO:pyQCD.core.lattice.Lattice.invert_wilson_dirac:tolerance: 1e-08\n"
      },
      {
       "output_type": "stream",
       "stream": "stderr",
       "text": "INFO:pyQCD.core.lattice.Lattice.invert_wilson_dirac:max_iterations: 1000\n"
      },
      {
       "output_type": "stream",
       "stream": "stderr",
       "text": "INFO:pyQCD.core.lattice.Lattice.invert_wilson_dirac:Solver finished after 77 iterations with residual 6.24324606357e-09\n"
      },
      {
       "output_type": "stream",
       "stream": "stderr",
       "text": "INFO:pyQCD.core.lattice.Lattice.invert_wilson_dirac:CPU time used: 1.54\n"
      },
      {
       "output_type": "stream",
       "stream": "stderr",
       "text": "INFO:pyQCD.core.propagator.compute_propagator:Inversion walltime: 0.519629955292\n"
      },
      {
       "output_type": "stream",
       "stream": "stderr",
       "text": "INFO:pyQCD.core.propagator.compute_propagator:Inverting for spin 3 and colour 2\n"
      },
      {
       "output_type": "stream",
       "stream": "stderr",
       "text": "INFO:pyQCD.core.lattice.Lattice.invert_wilson_dirac:Inverting Wilson Dirac operator...\n"
      },
      {
       "output_type": "stream",
       "stream": "stderr",
       "text": "INFO:pyQCD.core.lattice.Lattice.invert_wilson_dirac:solver_method: conjugate_gradient\n"
      },
      {
       "output_type": "stream",
       "stream": "stderr",
       "text": "INFO:pyQCD.core.lattice.Lattice.invert_wilson_dirac:boundary_conditions: [-1, 1, 1, 1]\n"
      },
      {
       "output_type": "stream",
       "stream": "stderr",
       "text": "INFO:pyQCD.core.lattice.Lattice.invert_wilson_dirac:precondition: False\n"
      },
      {
       "output_type": "stream",
       "stream": "stderr",
       "text": "INFO:pyQCD.core.lattice.Lattice.invert_wilson_dirac:mass: 0.2\n"
      },
      {
       "output_type": "stream",
       "stream": "stderr",
       "text": "INFO:pyQCD.core.lattice.Lattice.invert_wilson_dirac:tolerance: 1e-08\n"
      },
      {
       "output_type": "stream",
       "stream": "stderr",
       "text": "INFO:pyQCD.core.lattice.Lattice.invert_wilson_dirac:max_iterations: 1000\n"
      },
      {
       "output_type": "stream",
       "stream": "stderr",
       "text": "INFO:pyQCD.core.lattice.Lattice.invert_wilson_dirac:Solver finished after 77 iterations with residual 6.92040690981e-09\n"
      },
      {
       "output_type": "stream",
       "stream": "stderr",
       "text": "INFO:pyQCD.core.lattice.Lattice.invert_wilson_dirac:CPU time used: 1.29\n"
      },
      {
       "output_type": "stream",
       "stream": "stderr",
       "text": "INFO:pyQCD.core.propagator.compute_propagator:Inversion walltime: 0.423326015472\n"
      },
      {
       "output_type": "stream",
       "stream": "stderr",
       "text": "INFO:pyQCD.core.propagator.compute_propagator:Finished computing propagator\n"
      },
      {
       "output_type": "stream",
       "stream": "stdout",
       "text": "\nPropagator shape: (8, 4, 4, 4, 4, 4, 3, 3)\n"
      },
      {
       "output_type": "stream",
       "stream": "stderr",
       "text": "/usr/lib/python2.7/dist-packages/numpy/core/numeric.py:460: ComplexWarning: Casting complex values to real discards the imaginary part\n  return array(a, dtype, copy=False, order=order)\n"
      },
      {
       "metadata": {},
       "output_type": "display_data",
       "png": "[encoded data removed]",
       "text": "<matplotlib.figure.Figure at 0x7f95f004c810>"
      }
     ],
     "prompt_number": 11
    },
    {
     "cell_type": "markdown",
     "metadata": {
      "slideshow": {
       "slide_type": "slide"
      }
     },
     "source": "Simulations: Gluing it All Together\n===================================\n\n* Simulation class designed to save code repetition"
    },
    {
     "cell_type": "code",
     "collapsed": false,
     "input": "# Specify the lattice and simulation\nlattice = pyQCD.Lattice(16, 32, 4.41, \"rectangle_improved\", 10)\nsim = pyQCD.Simulation(lattice, num_configs=100, num_warmup_updates=100)\n# Specify the callback function to load a config from disk during the simulation\ndef load_config(index):\n    # N.B. These configs don't exist, so this simulation won't run.\n    return pyQCD.io.load_ildg_config(\"some_config.lime{}\".format(index))\n# Tell the simulation \nsim.specify_ensemble(load_config, range(10, 1010, 10))\n\n@pyQCD.Log(ignore=(\"lattice,\")) # Decorator logs the function arguments\ndef compute_correlators(lattice, mass1, mass2):\n    \"\"\"Compute all 256 meson correlators for the supplied masses\"\"\"\n    invert_wilson = lattice.invert_wilson_dirac\n    # Specify inversion functions\n    inverter1 = partial(invert_wilson, mass=mass1, precondition=True)\n    inverter2 = partial(invert_wilson, mass=mass2, precondition=True)\n    # Define a point source\n    src = lattice.point_source([0, 0, 0, 0])\n    # Compute our propagators\n    prop1 = pyQCD.compute_propagator(src, inverter1)\n    prop2 = (prop1 if mass1 == mass2\n             else pyQCD.compute_propagator(src, inverter2))\n    # Use the props to compute meson correlators\n    return pyQCD.compute_meson_corr256(prop1, prop2)\n\n# Add the measurement, specifying the function to write the result to disk\nsim.add_measurement(compute_correlators,\n                    pyQCD.io.write_datum_callback(\"16c32_m0.2_m0.2.zip\"),\n                    kwargs={'mass1': 0.2, 'mass2': 0.2})\n\nsim.run()",
     "language": "python",
     "metadata": {
      "slideshow": {
       "slide_type": "fragment"
      }
     },
     "outputs": []
    },
    {
     "cell_type": "markdown",
     "metadata": {
      "slideshow": {
       "slide_type": "slide"
      }
     },
     "source": "Utilising Scipy/Numpy\n====================="
    },
    {
     "cell_type": "code",
     "collapsed": false,
     "input": "import numpy as np\nimport scipy.sparse.linalg as spla\n\nlogger.setLevel(logging.WARN)\n\nlattice = pyQCD.Lattice(4, 8, 5.5, \"wilson\", 10)\n\ndef matvec(psi):\n    return lattice.apply_wilson_dirac(psi, 0.2).flatten()\n\nN = 12 * np.prod(lattice.shape)\nlinop = spla.LinearOperator(shape=(N, N), matvec=matvec)\n\neigvals, eigvecs = spla.eigs(linop, k=200)\n\nplt.plot(eigvals.real, eigvals.imag, 'o')\nplt.xlabel(\"$\\mathrm{Re}\\lambda$\", fontsize=18)\nplt.ylabel(\"$\\mathrm{Im}\\lambda$\", fontsize=18)\nplt.show()",
     "language": "python",
     "metadata": {
      "slideshow": {
       "slide_type": "fragment"
      }
     },
     "outputs": [
      {
       "metadata": {},
       "output_type": "display_data",
       "png": "[encoded data removed]",
       "text": "<matplotlib.figure.Figure at 0x7f95eff57110>"
      }
     ],
     "prompt_number": 12
    },
    {
     "cell_type": "markdown",
     "metadata": {
      "slideshow": {
       "slide_type": "slide"
      }
     },
     "source": "CUDA Support\n============\n\n* Single-precision GPU inverters using thrust and cusp\n* Benchmark: tree-level Wilson matrix inversion for $16^3\\times32$\n* Intel Sandybridge (dual core, 2.6 GHz): ~170 seconds\n* nVidia GeForce GTX 650 Ti: ~10 seconds\n* Extra hopping terms more expensive\n* Code to be optimized"
    },
    {
     "cell_type": "markdown",
     "metadata": {
      "slideshow": {
       "slide_type": "slide"
      }
     },
     "source": "The Bleeding Edge: Code Generation\n==================================\n\n* Need extensibility in linear operators\n* Write Python class\n* Convert to C++ via Python AST and Jinja2"
    },
    {
     "cell_type": "code",
     "collapsed": false,
     "input": "# Example input file: wilson.py\n\nimport numpy as np\n\nimport pyQCD\n\n@types(mass_=\"double\", hoppingMatrix_='HoppingTerm*')\nclass Wilson(object):\n\n    @types(mass=\"const double\")\n    def __init__(self, mass):\n\n        self.mass_ = mass\n        self.hoppingMatrix_ = HoppingTerm(1)\n\n    @types(psi='VectorXcd', eta='VectorXcd')\n    def apply(self, psi):\n\n        eta = (4 + self.mass_) * psi\n        eta -= 0.5 * self.hoppingMatrix_.apply(psi)\n        return eta",
     "language": "python",
     "metadata": {
      "slideshow": {
       "slide_type": "fragment"
      }
     },
     "outputs": []
    },
    {
     "cell_type": "code",
     "collapsed": false,
     "input": "pyQCD.codegen.gen_from_src(\"wilson.py\")",
     "language": "python",
     "metadata": {
      "slideshow": {
       "slide_type": "fragment"
      }
     },
     "outputs": [],
     "prompt_number": 13
    },
    {
     "cell_type": "code",
     "collapsed": false,
     "input": "cat wilson.cpp",
     "language": "python",
     "metadata": {
      "slideshow": {
       "slide_type": "fragment"
      }
     },
     "outputs": [
      {
       "output_type": "stream",
       "stream": "stdout",
       "text": "#include <linear_operators/wilson.hpp>\r\n\r\nWilson::Wilson(\r\n  const double mass, \r\n  const vector<complex<double> >& boundaryConditions,\r\n  const Lattice* lattice) : LinearOperator::LinearOperator()\r\n{\r\n  // Class constructor - we set the fermion mass, create a pointer to the \r\n  // lattice and compute the frequently used spin structures used within the\r\n  // Dirac operator.\r\n  this->operatorSize_ \r\n    = 12 * int(pow(lattice->spatialExtent, 3)) * lattice->temporalExtent;\r\n  this->lattice_ = lattice;\r\n\r\n  \r\n  this->mass_ = mass;\r\n  this->hoppingMatrix_ = new HoppingTerm(boundaryConditions, lattice, 1);\r\n\r\n  // These should be generated depending on whether there's a hopping matrix\r\n  // available\r\n  this->evenIndices_ = this->hoppingMatrix_->getEvenIndices();\r\n  this->oddIndices_ = this->hoppingMatrix_->getOddIndices();\r\n}\r\n\r\n\r\n\r\nWilson::~Wilson()\r\n{\r\n  // Need to determine which member_functions\r\n  \r\n  delete this->hoppingMatrix_;\r\n  \r\n}\r\n\r\n\r\n\r\nVectorXcd Wilson::apply(const VectorXcd& psi)\r\n{\r\n  VectorXcd eta;\r\n  \r\n  eta = ((4 + this->mass_) * psi);\r\n  eta -= (0.5 * this->hoppingMatrix_->apply(psi));\r\n  return eta;\r\n}\r\n\r\n\r\n\r\nVectorXcd Wilson::applyHermitian(const VectorXcd& psi)\r\n{\r\n  \r\n  return psi;\r\n}\r\n\r\n\r\n\r\nVectorXcd Wilson::makeHermitian(const VectorXcd& psi)\r\n{\r\n  \r\n  return psi;\r\n}\r\n\r\n\r\n\r\nVectorXcd Wilson::applyEvenEvenInv(const VectorXcd& psi)\r\n{\r\n  // Invert the even diagonal piece\r\n  \r\n  return (psi / ((1 + (3 / this->lattice_->chi())) + this->mass_));\r\n}\r\n\r\n\r\n\r\nVectorXcd Wilson::applyOddOdd(const VectorXcd& psi)\r\n{\r\n  // Invert the even diagonal piece\r\n  \r\n  return psi;\r\n}\r\n\r\n\r\n\r\nVectorXcd Wilson::applyEvenOdd(const VectorXcd& psi)\r\n{\r\n  \r\n  return psi;\r\n}\r\n\r\n\r\n\r\nVectorXcd Wilson::applyOddEven(const VectorXcd& psi)\r\n{\r\n  \r\n  VectorXcd eta = 0.5 * psi;\r\n  return eta;\r\n}"
      }
     ],
     "prompt_number": 14
    },
    {
     "cell_type": "markdown",
     "metadata": {
      "slideshow": {
       "slide_type": "slide"
      }
     },
     "source": "Other Stuff\n==========="
    },
    {
     "cell_type": "markdown",
     "metadata": {
      "slideshow": {
       "slide_type": "fragment"
      }
     },
     "source": "If I'd had more time:\n\n* Under the hood - C++ code\n* Analysis sub-package - parallel resampling etc.\n* IO interfaces - Chroma hadspec, ILDG, Scidac etc."
    },
    {
     "cell_type": "markdown",
     "metadata": {
      "slideshow": {
       "slide_type": "fragment"
      }
     },
     "source": "What next?\n\n* Version 1.0.0\n* MOAR actions - Iwasaki, HQET, clover, Moebius DWF, etc.\n* GPU optimisation\n* C++ 11"
    },
    {
     "cell_type": "markdown",
     "metadata": {
      "slideshow": {
       "slide_type": "slide"
      }
     },
     "source": "Final Remarks\n=============\n\n* Github: http://www.github.com/mspraggs/pyQCD\n* Lots still to do\n* Looking for contributers/developers/collaborators: matthew.spraggs@gmail.com"
    }
   ],
   "metadata": {}
  }
 ]
}