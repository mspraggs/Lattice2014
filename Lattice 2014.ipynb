{
 "metadata": {
  "name": ""
 },
 "nbformat": 3,
 "nbformat_minor": 0,
 "worksheets": [
  {
   "cells": [
    {
     "cell_type": "markdown",
     "metadata": {
      "slideshow": {
       "slide_type": "slide"
      }
     },
     "source": [
      "<h1 style=\"text-align: center;\" class=\"title\">pyQCD: A Native Lattice Simulation API for Python</h1>\n",
      "<h2 style=\"text-align: center;\" class=\"title\">Matt Spraggs</h2>\n",
      "<h2 style=\"text-align: center;\" class=\"title\">RBC/UKQCD</h2>\n",
      "<h3 style=\"text-align: center;\" class=\"title\">Department of Physics and Astronomy</h3>\n",
      "<h3 style=\"text-align: center;\" class=\"title\">University of Southampton</h3>"
     ]
    },
    {
     "cell_type": "markdown",
     "metadata": {
      "slideshow": {
       "slide_type": "slide"
      }
     },
     "source": [
      "But Why Matt? WHY!?\n",
      "===================\n",
      "\n",
      "* Reduced complexity\n",
      "* Ease of use\n",
      "* Interactive scripting\n",
      "* Rapid development"
     ]
    },
    {
     "cell_type": "markdown",
     "metadata": {
      "slideshow": {
       "slide_type": "fragment"
      }
     },
     "source": [
      "New measurement?\n",
      "\n",
      "1. Idea\n",
      "2. Prototype\n",
      "3. Test/Tune\n",
      "4. Full implementation\n",
      "5. Production run"
     ]
    },
    {
     "cell_type": "markdown",
     "metadata": {
      "slideshow": {
       "slide_type": "slide"
      }
     },
     "source": [
      "The Pipe Dream\n",
      "=============="
     ]
    },
    {
     "cell_type": "code",
     "collapsed": false,
     "input": [
      "import mylatlib\n",
      "\n",
      "L, T = 64, 128\n",
      "gauge_field = mylatlib.cold_start(L, T)\n",
      "\n",
      "gauge_field.heatbath(gauge_action=\"wilson\", num_updates=100)"
     ],
     "language": "python",
     "metadata": {
      "slideshow": {
       "slide_type": "fragment"
      }
     },
     "outputs": []
    },
    {
     "cell_type": "code",
     "collapsed": false,
     "input": [
      "correlators = []\n",
      "\n",
      "for i in range(100):\n",
      "    \n",
      "    prop = mylatlib.compute_wilson_prop(mass=0.1, gauge_field=gauge_field)\n",
      "    correlators.append(mylatlib.meson256(prop, prop))\n",
      "    \n",
      "    gauge_field.heatbath(gauge_action=\"wilson\", num_updates=10)\n",
      "    \n",
      "mylatlib.save(\"the_results\", correlators)"
     ],
     "language": "python",
     "metadata": {
      "slideshow": {
       "slide_type": "fragment"
      }
     },
     "outputs": []
    },
    {
     "cell_type": "markdown",
     "metadata": {
      "slideshow": {
       "slide_type": "fragment"
      }
     },
     "source": [
      "Moderate Our Expectations\n",
      "-------------------------\n",
      "* Prototyping\n",
      "* Testing\n",
      "* Extensibility"
     ]
    },
    {
     "cell_type": "markdown",
     "metadata": {
      "slideshow": {
       "slide_type": "slide"
      }
     },
     "source": [
      "Python\n",
      "======\n",
      "\n",
      "**Python:** Interpretted, dynamic, high-level, clean, readable"
     ]
    },
    {
     "cell_type": "markdown",
     "metadata": {
      "slideshow": {
       "slide_type": "fragment"
      }
     },
     "source": [
      "**Advantages:**\n",
      "\n",
      "* Readable\n",
      "* Flexible\n",
      "* Easy to learn\n",
      "* Easy to debug\n",
      "* Huge number of packages/libraries"
     ]
    },
    {
     "cell_type": "markdown",
     "metadata": {
      "slideshow": {
       "slide_type": "fragment"
      }
     },
     "source": [
      "**Disadvantages:**\n",
      "\n",
      "* Ewww! Whitespace!\n",
      "* Sloooooooooooooooow..."
     ]
    },
    {
     "cell_type": "markdown",
     "metadata": {},
     "source": [
      "**Lattice:** Computationally intensive"
     ]
    },
    {
     "cell_type": "markdown",
     "metadata": {
      "slideshow": {
       "slide_type": "slide"
      }
     },
     "source": [
      "Boost.Python to the Rescue!\n",
      "====================\n",
      "\n",
      "**Boost:** Set of C++ libraries to meet a range of needs\n",
      "\n",
      "<img style=\"margin-left: auto; margin-right: auto; display: block;\" src=\"files/Python_C++.png\">"
     ]
    },
    {
     "cell_type": "markdown",
     "metadata": {
      "slideshow": {
       "slide_type": "slide"
      }
     },
     "source": [
      "pyQCD\n",
      "=====\n",
      "\n",
      "* The lattice is an object\n",
      "* Lexicographic site ordering\n",
      "* CPU-intensive code in C++ via Boost\n",
      "* Linear algebra with Eigen 3\n",
      "* Multithreading using OpenMP\n",
      "* Full use of numpy data types\n",
      "* Ease of use, extensibility and documentation\n",
      "* CUDA support\n",
      "* Easy to install and (hopefully) cross platform\n",
      "* Python 2 and 3 compatability"
     ]
    },
    {
     "cell_type": "code",
     "collapsed": false,
     "input": [
      "import pyQCD\n",
      "\n",
      "pyQCD.Lattice?"
     ],
     "language": "python",
     "metadata": {
      "slideshow": {
       "slide_type": "fragment"
      }
     },
     "outputs": [],
     "prompt_number": 31
    },
    {
     "cell_type": "markdown",
     "metadata": {
      "slideshow": {
       "slide_type": "slide"
      }
     },
     "source": [
      "Peeling the Onion\n",
      "================\n",
      "\n",
      "<img src=\"files/anatomy.png\" style=\"margin-left: auto; margin-right: auto; display: block;\">"
     ]
    },
    {
     "cell_type": "markdown",
     "metadata": {
      "slideshow": {
       "slide_type": "slide"
      }
     },
     "source": [
      "A Simple Example\n",
      "================"
     ]
    },
    {
     "cell_type": "code",
     "collapsed": false,
     "input": [
      "lattice = pyQCD.Lattice(L=4, T=8,\n",
      "                        beta=5.5, action=\"wilson\",\n",
      "                        meas_spacing=10,\n",
      "                        update_method=\"heatbath\")\n",
      "\n",
      "for i in range(20):\n",
      "    print(lattice.get_av_plaquette())\n",
      "    lattice.update()"
     ],
     "language": "python",
     "metadata": {
      "slideshow": {
       "slide_type": "fragment"
      }
     },
     "outputs": []
    },
    {
     "cell_type": "markdown",
     "metadata": {
      "slideshow": {
       "slide_type": "slide"
      }
     },
     "source": [
      "A Simple Example (Cont.)\n",
      "========================"
     ]
    },
    {
     "cell_type": "code",
     "collapsed": true,
     "input": [
      "config = lattice.get_config()\n",
      "\n",
      "print(\"Config type: {}\".format(type(config)))\n",
      "print(\"Config shape: {}\".format(config.shape))\n",
      "print(\"\")\n",
      "print(\"Gauge field for link (t, x, y, z, mu) = (4, 3, 1, 2, 2):\")\n",
      "print(config[4, 3, 1, 2, 2])"
     ],
     "language": "python",
     "metadata": {
      "slideshow": {
       "slide_type": "fragment"
      }
     },
     "outputs": []
    },
    {
     "cell_type": "markdown",
     "metadata": {
      "slideshow": {
       "slide_type": "slide"
      }
     },
     "source": [
      "Generating Some Configs\n",
      "=======================\n",
      "\n",
      "* Do parallel updates on even and odd blocks in turn with OpenMP\n",
      "* Use with caution!"
     ]
    },
    {
     "cell_type": "code",
     "collapsed": false,
     "input": [
      "lattice = pyQCD.Lattice(8, 4, 5.8, \"rectangle_improved\", 10)\n",
      "# Thermalize with 100 updates\n",
      "lattice.thermalize(100)\n",
      "\n",
      "for i in range(10):\n",
      "    print(\"Generating config {}\".format(i))\n",
      "    # Do ten updates\n",
      "    lattice.next_config()\n",
      "    lattice.save_config(\"config{}.npy\".format(i))"
     ],
     "language": "python",
     "metadata": {
      "slideshow": {
       "slide_type": "fragment"
      }
     },
     "outputs": []
    },
    {
     "cell_type": "markdown",
     "metadata": {
      "slideshow": {
       "slide_type": "slide"
      }
     },
     "source": [
      "Computing Propagators\n",
      "=====================\n",
      "\n",
      "* Matvec operations parallelised with OpenMP\n",
      "* Here we're inverting in the free theory"
     ]
    },
    {
     "cell_type": "code",
     "collapsed": false,
     "input": [
      "from functools import partial\n",
      "\n",
      "lattice = pyQCD.Lattice(4, 8, 5.5, \"wilson\", 10)\n",
      "inverter = partial(lattice.invert_wilson_dirac, mass=0.2)\n",
      "source = lattice.point_source([0, 0, 0, 0])\n",
      "\n",
      "print(\"Source type: {}\".format(type(source)))\n",
      "print(\"Source shape: {}\".format(source.shape))\n",
      "print(\"Source non-zero entries: {}\".format(source.nonzero()))"
     ],
     "language": "python",
     "metadata": {
      "slideshow": {
       "slide_type": "fragment"
      }
     },
     "outputs": []
    },
    {
     "cell_type": "code",
     "collapsed": false,
     "input": [
      "%matplotlib inline\n",
      "\n",
      "import logging\n",
      "import matplotlib.pyplot as plt\n",
      "\n",
      "logger = logging.getLogger()\n",
      "logger.setLevel(logging.INFO)\n",
      "\n",
      "prop = pyQCD.compute_propagator(source, inverter)\n",
      "print(\"\")\n",
      "print(\"Propagator shape: {}\".format(prop.shape))\n",
      "ps_correlator = pyQCD.compute_meson_corr(prop, prop, \"g5\", \"g5\")\n",
      "plt.plot(ps_correlator)\n",
      "plt.xlabel(\"$t$\", fontsize=18)\n",
      "plt.ylabel(\"$C(t)$\", fontsize=18)\n",
      "plt.show()"
     ],
     "language": "python",
     "metadata": {
      "slideshow": {
       "slide_type": "fragment"
      }
     },
     "outputs": []
    },
    {
     "cell_type": "markdown",
     "metadata": {
      "slideshow": {
       "slide_type": "slide"
      }
     },
     "source": [
      "Utilising Scipy/Numpy\n",
      "====================="
     ]
    },
    {
     "cell_type": "code",
     "collapsed": false,
     "input": [
      "import numpy as np\n",
      "import scipy.sparse.linalg as spla\n",
      "\n",
      "logger.setLevel(logging.WARN)\n",
      "\n",
      "lattice = pyQCD.Lattice(4, 8, 5.5, \"wilson\", 10)\n",
      "\n",
      "def matvec(psi):\n",
      "    return lattice.apply_wilson_dirac(psi, 0.2).flatten()\n",
      "\n",
      "N = 12 * np.prod(lattice.shape)\n",
      "linop = spla.LinearOperator(shape=(N, N), matvec=matvec)\n",
      "\n",
      "eigvals, eigvecs = spla.eigs(linop, k=200)\n",
      "\n",
      "plt.plot(eigvals.real, eigvals.imag, 'o')\n",
      "plt.xlabel(\"$\\mathrm{Re}\\lambda$\", fontsize=18)\n",
      "plt.ylabel(\"$\\mathrm{Im}\\lambda$\", fontsize=18)\n",
      "plt.show()"
     ],
     "language": "python",
     "metadata": {
      "slideshow": {
       "slide_type": "fragment"
      }
     },
     "outputs": [
      {
       "metadata": {},
       "output_type": "display_data",
       "png": "[encoded data removed]",
       "text": [
        "<matplotlib.figure.Figure at 0x7f5baf5f8890>"
       ]
      }
     ],
     "prompt_number": 32
    },
    {
     "cell_type": "markdown",
     "metadata": {
      "slideshow": {
       "slide_type": "slide"
      }
     },
     "source": [
      "CUDA Support\n",
      "============\n",
      "\n",
      "* Single-precision GPU inverters using thrust and cusp\n",
      "* Benchmark: tree-level Wilson matrix inversion for $16^3\\times32$\n",
      "* Intel Sandybridge (dual core, 2.6 GHz): ~170 seconds\n",
      "* nVidia GeForce GTX 650 Ti: ~10 seconds\n",
      "* Extra hopping terms more expensive\n",
      "* Code to be optimized"
     ]
    },
    {
     "cell_type": "markdown",
     "metadata": {
      "slideshow": {
       "slide_type": "slide"
      }
     },
     "source": [
      "The Bleeding Edge: Code Generation\n",
      "==================================\n",
      "\n",
      "* Need extensibility in linear operators\n",
      "* Write Python class\n",
      "* Convert to C++ via Python AST and Jinja2"
     ]
    },
    {
     "cell_type": "code",
     "collapsed": false,
     "input": [
      "# Example input file: wilson.py\n",
      "\n",
      "import numpy as np\n",
      "\n",
      "import pyQCD\n",
      "\n",
      "@types(mass_=\"double\", hoppingMatrix_='HoppingTerm*')\n",
      "class Wilson(object):\n",
      "\n",
      "    @types(mass=\"const double\")\n",
      "    def __init__(self, mass):\n",
      "\n",
      "        self.mass_ = mass\n",
      "        self.hoppingMatrix_ = HoppingTerm(1)\n",
      "\n",
      "    @types(psi='VectorXcd', eta='VectorXcd')\n",
      "    def apply(self, psi):\n",
      "\n",
      "        eta = (4 + self.mass_) * psi\n",
      "        eta -= 0.5 * self.hoppingMatrix_.apply(psi)\n",
      "        return eta"
     ],
     "language": "python",
     "metadata": {
      "slideshow": {
       "slide_type": "fragment"
      }
     },
     "outputs": []
    },
    {
     "cell_type": "code",
     "collapsed": false,
     "input": [
      "pyQCD.codegen.gen_from_src(\"wilson.py\")"
     ],
     "language": "python",
     "metadata": {
      "slideshow": {
       "slide_type": "fragment"
      }
     },
     "outputs": []
    },
    {
     "cell_type": "code",
     "collapsed": false,
     "input": [
      "cat wilson.cpp"
     ],
     "language": "python",
     "metadata": {
      "slideshow": {
       "slide_type": "fragment"
      }
     },
     "outputs": []
    },
    {
     "cell_type": "markdown",
     "metadata": {
      "slideshow": {
       "slide_type": "slide"
      }
     },
     "source": [
      "Other Stuff\n",
      "==========="
     ]
    },
    {
     "cell_type": "markdown",
     "metadata": {
      "slideshow": {
       "slide_type": "fragment"
      }
     },
     "source": [
      "If I'd had more time:\n",
      "\n",
      "* Under the hood - C++ code\n",
      "* Analysis sub-package - parallel resampling etc.\n",
      "* IO interfaces - Chroma hadspec, ILDG, Scidac etc.\n",
      "* Simulation class - gluing measurements together"
     ]
    },
    {
     "cell_type": "markdown",
     "metadata": {
      "slideshow": {
       "slide_type": "fragment"
      }
     },
     "source": [
      "What next?\n",
      "\n",
      "* Version 1.0.0\n",
      "* MOAR actions - Iwasaki, HQET, clover, Moebius DWF, etc.\n",
      "* GPU optimisation\n",
      "* C++ 11"
     ]
    },
    {
     "cell_type": "markdown",
     "metadata": {
      "slideshow": {
       "slide_type": "slide"
      }
     },
     "source": [
      "Final Remarks\n",
      "=============\n",
      "\n",
      "* Github: http://www.github.com/mspraggs/pyQCD\n",
      "* Lots still to do\n",
      "* Looking for contributers/developers/collaborators: matthew.spraggs@gmail.com"
     ]
    }
   ],
   "metadata": {}
  }
 ]
}